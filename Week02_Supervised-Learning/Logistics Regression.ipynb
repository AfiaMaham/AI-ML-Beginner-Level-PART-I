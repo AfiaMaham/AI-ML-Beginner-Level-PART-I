{
 "cells": [
  {
   "cell_type": "code",
   "execution_count": 1,
   "id": "ca2075eb-ce78-4da4-93d3-f17a4566c12a",
   "metadata": {},
   "outputs": [],
   "source": [
    "import pandas as pd"
   ]
  },
  {
   "cell_type": "markdown",
   "id": "e3bf83de-8639-411a-a900-5d4072a0d9f1",
   "metadata": {},
   "source": [
    "Load the training data"
   ]
  },
  {
   "cell_type": "code",
   "execution_count": 7,
   "id": "bf27d077-f1ea-4570-a9dd-dc418c611f3c",
   "metadata": {
    "scrolled": true
   },
   "outputs": [
    {
     "name": "stdout",
     "output_type": "stream",
     "text": [
      "   PassengerId  Survived  Pclass  \\\n",
      "0            1         0       3   \n",
      "1            2         1       1   \n",
      "2            3         1       3   \n",
      "3            4         1       1   \n",
      "4            5         0       3   \n",
      "5            6         0       3   \n",
      "6            7         0       1   \n",
      "7            8         0       3   \n",
      "8            9         1       3   \n",
      "9           10         1       2   \n",
      "\n",
      "                                                Name     Sex   Age  SibSp  \\\n",
      "0                            Braund, Mr. Owen Harris    male  22.0      1   \n",
      "1  Cumings, Mrs. John Bradley (Florence Briggs Th...  female  38.0      1   \n",
      "2                             Heikkinen, Miss. Laina  female  26.0      0   \n",
      "3       Futrelle, Mrs. Jacques Heath (Lily May Peel)  female  35.0      1   \n",
      "4                           Allen, Mr. William Henry    male  35.0      0   \n",
      "5                                   Moran, Mr. James    male   NaN      0   \n",
      "6                            McCarthy, Mr. Timothy J    male  54.0      0   \n",
      "7                     Palsson, Master. Gosta Leonard    male   2.0      3   \n",
      "8  Johnson, Mrs. Oscar W (Elisabeth Vilhelmina Berg)  female  27.0      0   \n",
      "9                Nasser, Mrs. Nicholas (Adele Achem)  female  14.0      1   \n",
      "\n",
      "   Parch            Ticket     Fare Cabin Embarked  \n",
      "0      0         A/5 21171   7.2500   NaN        S  \n",
      "1      0          PC 17599  71.2833   C85        C  \n",
      "2      0  STON/O2. 3101282   7.9250   NaN        S  \n",
      "3      0            113803  53.1000  C123        S  \n",
      "4      0            373450   8.0500   NaN        S  \n",
      "5      0            330877   8.4583   NaN        Q  \n",
      "6      0             17463  51.8625   E46        S  \n",
      "7      1            349909  21.0750   NaN        S  \n",
      "8      2            347742  11.1333   NaN        S  \n",
      "9      0            237736  30.0708   NaN        C  \n"
     ]
    }
   ],
   "source": [
    "data = pd.read_csv(\"titanic/train.csv\")\n",
    "print(data.head(10))"
   ]
  },
  {
   "cell_type": "markdown",
   "id": "f09ed31f-6c2a-4bde-afc9-05f9a27497ef",
   "metadata": {},
   "source": [
    "Check for missing values"
   ]
  },
  {
   "cell_type": "code",
   "execution_count": 8,
   "id": "de7c5c1f-ae63-452d-b237-a36c0de6c721",
   "metadata": {},
   "outputs": [
    {
     "name": "stdout",
     "output_type": "stream",
     "text": [
      "PassengerId      0\n",
      "Survived         0\n",
      "Pclass           0\n",
      "Name             0\n",
      "Sex              0\n",
      "Age            177\n",
      "SibSp            0\n",
      "Parch            0\n",
      "Ticket           0\n",
      "Fare             0\n",
      "Cabin          687\n",
      "Embarked         2\n",
      "dtype: int64\n"
     ]
    }
   ],
   "source": [
    "print(data.isnull().sum())"
   ]
  },
  {
   "cell_type": "markdown",
   "id": "5c51731a-1738-4e46-8897-a19bda45e00b",
   "metadata": {},
   "source": [
    "Since Cabin has too many missing values, drop the Cabin column entirely.\n",
    "For Age and Embarked, we can fill missing values:\n",
    "- For Age: fill with the median age.\n",
    "- For Embarked: fill with the mode."
   ]
  },
  {
   "cell_type": "code",
   "execution_count": 9,
   "id": "274cfd20-3d31-4fc4-883e-57a77a607cb6",
   "metadata": {},
   "outputs": [
    {
     "name": "stdout",
     "output_type": "stream",
     "text": [
      "PassengerId    0\n",
      "Survived       0\n",
      "Pclass         0\n",
      "Name           0\n",
      "Sex            0\n",
      "Age            0\n",
      "SibSp          0\n",
      "Parch          0\n",
      "Ticket         0\n",
      "Fare           0\n",
      "Embarked       0\n",
      "dtype: int64\n"
     ]
    },
    {
     "name": "stderr",
     "output_type": "stream",
     "text": [
      "C:\\Users\\pc\\AppData\\Local\\Temp\\ipykernel_11688\\1214688364.py:2: FutureWarning: A value is trying to be set on a copy of a DataFrame or Series through chained assignment using an inplace method.\n",
      "The behavior will change in pandas 3.0. This inplace method will never work because the intermediate object on which we are setting values always behaves as a copy.\n",
      "\n",
      "For example, when doing 'df[col].method(value, inplace=True)', try using 'df.method({col: value}, inplace=True)' or df[col] = df[col].method(value) instead, to perform the operation inplace on the original object.\n",
      "\n",
      "\n",
      "  data['Age'].fillna(data['Age'].median(), inplace=True)\n",
      "C:\\Users\\pc\\AppData\\Local\\Temp\\ipykernel_11688\\1214688364.py:3: FutureWarning: A value is trying to be set on a copy of a DataFrame or Series through chained assignment using an inplace method.\n",
      "The behavior will change in pandas 3.0. This inplace method will never work because the intermediate object on which we are setting values always behaves as a copy.\n",
      "\n",
      "For example, when doing 'df[col].method(value, inplace=True)', try using 'df.method({col: value}, inplace=True)' or df[col] = df[col].method(value) instead, to perform the operation inplace on the original object.\n",
      "\n",
      "\n",
      "  data['Embarked'].fillna(data['Embarked'].mode()[0], inplace=True)\n"
     ]
    }
   ],
   "source": [
    "data = data.drop('Cabin', axis=1)\n",
    "data['Age'].fillna(data['Age'].median(), inplace=True)\n",
    "data['Embarked'].fillna(data['Embarked'].mode()[0], inplace=True)\n",
    "\n",
    "print(data.isnull().sum())"
   ]
  },
  {
   "cell_type": "markdown",
   "id": "41ea7b68-40ef-4e25-b4af-9be80a25bb0e",
   "metadata": {},
   "source": [
    "Logistic Regression requires numerical input features, so we need to:\n",
    "\n",
    "- Convert categorical columns into numeric format (e.g., Sex and Embarked).\n",
    "- Select the relevant features to use for training.\n",
    "- Drop irrelevant columns like PassengerId, Name, and Ticket because they don’t help the prediction."
   ]
  },
  {
   "cell_type": "code",
   "execution_count": 10,
   "id": "c7ee8128-069d-4273-983d-abebca216dc4",
   "metadata": {},
   "outputs": [
    {
     "name": "stdout",
     "output_type": "stream",
     "text": [
      "   Survived  Pclass  Sex   Age  SibSp  Parch     Fare  Embarked_Q  Embarked_S\n",
      "0         0       3    0  22.0      1      0   7.2500       False        True\n",
      "1         1       1    1  38.0      1      0  71.2833       False       False\n",
      "2         1       3    1  26.0      0      0   7.9250       False        True\n",
      "3         1       1    1  35.0      1      0  53.1000       False        True\n",
      "4         0       3    0  35.0      0      0   8.0500       False        True\n"
     ]
    }
   ],
   "source": [
    "data['Sex'] = data['Sex'].map({'male': 0, 'female': 1})\n",
    "data = pd.get_dummies(data, columns=['Embarked'], drop_first=True)\n",
    "data = data.drop(['PassengerId', 'Name', 'Ticket'], axis=1)\n",
    "\n",
    "print(data.head())"
   ]
  },
  {
   "cell_type": "markdown",
   "id": "8abf0c88-8270-4ddb-9b20-bf20677d0a30",
   "metadata": {},
   "source": [
    "Split data into features and target"
   ]
  },
  {
   "cell_type": "code",
   "execution_count": 11,
   "id": "d316a039-fc2c-4fc4-8c29-70c2e06188b6",
   "metadata": {},
   "outputs": [
    {
     "name": "stdout",
     "output_type": "stream",
     "text": [
      "   Pclass  Sex   Age  SibSp  Parch     Fare  Embarked_Q  Embarked_S\n",
      "0       3    0  22.0      1      0   7.2500       False        True\n",
      "1       1    1  38.0      1      0  71.2833       False       False\n",
      "2       3    1  26.0      0      0   7.9250       False        True\n",
      "3       1    1  35.0      1      0  53.1000       False        True\n",
      "4       3    0  35.0      0      0   8.0500       False        True\n",
      "0    0\n",
      "1    1\n",
      "2    1\n",
      "3    1\n",
      "4    0\n",
      "Name: Survived, dtype: int64\n"
     ]
    }
   ],
   "source": [
    "y = data['Survived']\n",
    "X = data.drop('Survived', axis=1)\n",
    "\n",
    "print(X.head())\n",
    "print(y.head())"
   ]
  },
  {
   "cell_type": "markdown",
   "id": "80a332ee-2733-4c31-a136-14fdee017580",
   "metadata": {},
   "source": [
    "Convert boolean columns to integers"
   ]
  },
  {
   "cell_type": "code",
   "execution_count": 12,
   "id": "b152c6ee-7f46-4752-96f8-08b557c3cb14",
   "metadata": {},
   "outputs": [
    {
     "name": "stdout",
     "output_type": "stream",
     "text": [
      "   Pclass  Sex   Age  SibSp  Parch     Fare  Embarked_Q  Embarked_S\n",
      "0       3    0  22.0      1      0   7.2500           0           1\n",
      "1       1    1  38.0      1      0  71.2833           0           0\n",
      "2       3    1  26.0      0      0   7.9250           0           1\n",
      "3       1    1  35.0      1      0  53.1000           0           1\n",
      "4       3    0  35.0      0      0   8.0500           0           1\n"
     ]
    }
   ],
   "source": [
    "X['Embarked_Q'] = X['Embarked_Q'].astype(int)\n",
    "X['Embarked_S'] = X['Embarked_S'].astype(int)\n",
    "\n",
    "print(X.head())"
   ]
  },
  {
   "cell_type": "markdown",
   "id": "4a449284-77f2-481e-b240-1e17259d4914",
   "metadata": {},
   "source": [
    "Split the data into training and testing sets"
   ]
  },
  {
   "cell_type": "code",
   "execution_count": 13,
   "id": "d34526bd-67fc-4982-8f1a-32d1671191be",
   "metadata": {},
   "outputs": [
    {
     "name": "stdout",
     "output_type": "stream",
     "text": [
      "Training samples: 712\n",
      "Testing samples: 179\n"
     ]
    }
   ],
   "source": [
    "from sklearn.model_selection import train_test_split\n",
    "\n",
    "X_train, X_test, y_train, y_test = train_test_split(X, y, test_size=0.2, random_state=42)\n",
    "\n",
    "print(f'Training samples: {X_train.shape[0]}')\n",
    "print(f'Testing samples: {X_test.shape[0]}')"
   ]
  },
  {
   "cell_type": "markdown",
   "id": "28aeb9d2-8598-40b9-a643-8bfb76060d42",
   "metadata": {},
   "source": [
    "Train the Logistic Regression model"
   ]
  },
  {
   "cell_type": "code",
   "execution_count": 14,
   "id": "d4cb13c4-2f5f-4f15-b923-878885f539da",
   "metadata": {},
   "outputs": [
    {
     "name": "stdout",
     "output_type": "stream",
     "text": [
      "Model training complete!\n"
     ]
    }
   ],
   "source": [
    "from sklearn.linear_model import LogisticRegression\n",
    "\n",
    "model = LogisticRegression(max_iter=1000)\n",
    "model.fit(X_train, y_train)\n",
    "\n",
    "print(\"Model training complete!\")"
   ]
  },
  {
   "cell_type": "markdown",
   "id": "651b2942-295f-4a12-a24b-42ce2f3461ff",
   "metadata": {},
   "source": [
    "Make predictions on the test set and evaluate accuracy"
   ]
  },
  {
   "cell_type": "code",
   "execution_count": 15,
   "id": "1c34b087-9f5c-4c1c-b727-6096684cffb2",
   "metadata": {},
   "outputs": [
    {
     "name": "stdout",
     "output_type": "stream",
     "text": [
      "Accuracy on test set: 0.8101\n"
     ]
    }
   ],
   "source": [
    "from sklearn.metrics import accuracy_score\n",
    "\n",
    "y_pred = model.predict(X_test)\n",
    "accuracy = accuracy_score(y_test, y_pred)\n",
    "\n",
    "print(f\"Accuracy on test set: {accuracy:.4f}\")"
   ]
  },
  {
   "cell_type": "markdown",
   "id": "eb6d48e6-043d-44df-8dc8-715022a84209",
   "metadata": {},
   "source": [
    "- After loading and preprocessing, we split the data into 80% training and 20% testing sets.\n",
    "- The trained model achieved an accuracy of approximately 81% on the test set, indicating it correctly predicted survival or non-survival \n",
    "for most passengers."
   ]
  },
  {
   "cell_type": "code",
   "execution_count": null,
   "id": "e495bc91-73d9-4664-878f-2e46254501a2",
   "metadata": {},
   "outputs": [],
   "source": []
  }
 ],
 "metadata": {
  "kernelspec": {
   "display_name": "Python 3 (ipykernel)",
   "language": "python",
   "name": "python3"
  },
  "language_info": {
   "codemirror_mode": {
    "name": "ipython",
    "version": 3
   },
   "file_extension": ".py",
   "mimetype": "text/x-python",
   "name": "python",
   "nbconvert_exporter": "python",
   "pygments_lexer": "ipython3",
   "version": "3.11.9"
  }
 },
 "nbformat": 4,
 "nbformat_minor": 5
}
