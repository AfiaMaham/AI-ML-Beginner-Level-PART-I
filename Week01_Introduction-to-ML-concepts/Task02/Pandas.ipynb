{
 "cells": [
  {
   "cell_type": "markdown",
   "id": "0bc9cbd7-6faf-4b67-89b2-e60529982094",
   "metadata": {},
   "source": [
    "Pandas Refers to \"Panel Data\" or \"Python Data Analysis\""
   ]
  },
  {
   "cell_type": "code",
   "execution_count": 1,
   "id": "ed038493-0239-4cfd-b666-a73c86f8ec8f",
   "metadata": {},
   "outputs": [],
   "source": [
    "import pandas as pd"
   ]
  },
  {
   "cell_type": "markdown",
   "id": "9f18920b-e64d-422c-992a-f44ab908b01d",
   "metadata": {},
   "source": [
    "1- Series: (Column-like, One - Dimentional)"
   ]
  },
  {
   "cell_type": "code",
   "execution_count": 2,
   "id": "ab891d77-737f-4985-a160-2be2f9fc50d2",
   "metadata": {},
   "outputs": [
    {
     "name": "stdout",
     "output_type": "stream",
     "text": [
      "0    1\n",
      "1    2\n",
      "2    3\n",
      "dtype: int64\n"
     ]
    }
   ],
   "source": [
    "x = [1, 2, 3]\n",
    "data = pd.Series(x)\n",
    "print(data)"
   ]
  },
  {
   "cell_type": "code",
   "execution_count": 3,
   "id": "9f27077c-a2b8-4303-ae5c-cab37cde5eaa",
   "metadata": {},
   "outputs": [
    {
     "name": "stdout",
     "output_type": "stream",
     "text": [
      "2\n"
     ]
    }
   ],
   "source": [
    "print(data[1])"
   ]
  },
  {
   "cell_type": "code",
   "execution_count": 4,
   "id": "4d8ccd69-1dbd-4d29-8e27-b57b8c1057c1",
   "metadata": {},
   "outputs": [
    {
     "name": "stdout",
     "output_type": "stream",
     "text": [
      "x    1\n",
      "y    2\n",
      "z    3\n",
      "dtype: int64\n"
     ]
    }
   ],
   "source": [
    "data = pd.Series(x, index = [\"x\", \"y\", \"z\"])\n",
    "print(data)"
   ]
  },
  {
   "cell_type": "code",
   "execution_count": 5,
   "id": "9c455fbc-09c9-4e8c-bd47-cc2dbad2530f",
   "metadata": {},
   "outputs": [
    {
     "name": "stdout",
     "output_type": "stream",
     "text": [
      "2\n"
     ]
    }
   ],
   "source": [
    "print(data[\"y\"])"
   ]
  },
  {
   "cell_type": "code",
   "execution_count": 6,
   "id": "c7796853-a0fa-4f86-b623-2080239fca77",
   "metadata": {},
   "outputs": [
    {
     "name": "stdout",
     "output_type": "stream",
     "text": [
      "val1    10\n",
      "val2    20\n",
      "val3    30\n",
      "val4    40\n",
      "dtype: int64\n",
      "20\n"
     ]
    }
   ],
   "source": [
    "dict = {\"val1\" : 10, \"val2\" : 20, \"val3\" : 30, \"val4\" : 40}\n",
    "data = pd.Series(dict)\n",
    "print(data)\n",
    "print(data[\"val2\"])"
   ]
  },
  {
   "cell_type": "code",
   "execution_count": 7,
   "id": "912550cc-9632-441f-a10f-953bb6ef3744",
   "metadata": {},
   "outputs": [
    {
     "name": "stdout",
     "output_type": "stream",
     "text": [
      "val3    30\n",
      "val4    40\n",
      "dtype: int64\n"
     ]
    }
   ],
   "source": [
    "data = pd.Series(dict,index = [\"val3\", \"val4\"])\n",
    "print(data)"
   ]
  },
  {
   "cell_type": "markdown",
   "id": "6c62b81e-fd83-4313-a1f3-9436b2a55491",
   "metadata": {},
   "source": [
    "2- Data Frames (table with rows and columns, 2 - Dimentional)"
   ]
  },
  {
   "cell_type": "code",
   "execution_count": 8,
   "id": "a9644f97-e3d4-46ef-b88f-8e0e4f12caf0",
   "metadata": {},
   "outputs": [
    {
     "name": "stdout",
     "output_type": "stream",
     "text": [
      "   negative  Positive\n",
      "0       -10        50\n",
      "1       -20        60\n",
      "2       -30        70\n",
      "3       -40        80\n"
     ]
    }
   ],
   "source": [
    "dict = {\"negative\": [-10, -20, -30, -40],\n",
    "        \"Positive\" : [50, 60, 70, 80]}\n",
    "data = pd.DataFrame(dict)\n",
    "print(data)"
   ]
  },
  {
   "cell_type": "code",
   "execution_count": 9,
   "id": "494c9f7e-65d0-40d4-97cb-3bc9bbad4a1f",
   "metadata": {},
   "outputs": [
    {
     "name": "stdout",
     "output_type": "stream",
     "text": [
      "   negative  Positive\n",
      "0       -10        50\n",
      "2       -30        70\n"
     ]
    }
   ],
   "source": [
    "print(data.loc[[0,2]])"
   ]
  },
  {
   "cell_type": "code",
   "execution_count": 10,
   "id": "d75f23f5-0dad-4b65-8841-2acae7fb5b2f",
   "metadata": {},
   "outputs": [
    {
     "name": "stdout",
     "output_type": "stream",
     "text": [
      "      negative  Positive\n",
      "val1       -10        50\n",
      "val2       -20        60\n",
      "val3       -30        70\n",
      "val4       -40        80\n",
      "      negative  Positive\n",
      "val1       -10        50\n",
      "val4       -40        80\n"
     ]
    }
   ],
   "source": [
    "data = pd.DataFrame(dict, index = [\"val1\", \"val2\", \"val3\", \"val4\"])\n",
    "print(data)\n",
    "print(data.loc[[\"val1\", \"val4\"]])"
   ]
  },
  {
   "cell_type": "markdown",
   "id": "0172cb8b-878d-4965-92b4-9f1d455bcdab",
   "metadata": {},
   "source": [
    "CSV AND JSON DATA LOADING"
   ]
  },
  {
   "cell_type": "code",
   "execution_count": 14,
   "id": "f3ec05f3-e2aa-42c5-8655-80254762a255",
   "metadata": {},
   "outputs": [
    {
     "name": "stdout",
     "output_type": "stream",
     "text": [
      "   ID     Name     Age    Salary Joining_Date Department\n",
      "0   1    Alice      25   50000.0   2020-01-15         HR\n",
      "1   2      Bob  thirty   60000.0   2019-06-23         IT\n",
      "2   3  Charlie      22       NaN   2018/07/01    Finance\n",
      "3   4      NaN      27   70000.0   2017-08-19         HR\n",
      "4   5      Eve     NaN   80000.0          NaN         IT\n",
      "5   6    Frank      29       NaN   2021-09-12    Finance\n",
      "6   7    Grace      31   90000.0   2022-11-25         HR\n",
      "7   7    Grace      31   90000.0   2022-11-25        NaN\n",
      "8   9      Ivy      40       NaN  InvalidDate         IT\n",
      "9  10     Jack     NaN  100000.0   2023-04-30    Finance\n"
     ]
    }
   ],
   "source": [
    "data = pd.read_csv(\"messy_data.csv\")\n",
    "print(data.to_string())"
   ]
  },
  {
   "cell_type": "code",
   "execution_count": 15,
   "id": "8f389bf1-2366-4270-baeb-6df37c6fc4be",
   "metadata": {},
   "outputs": [
    {
     "name": "stdout",
     "output_type": "stream",
     "text": [
      "   ID     Name     Age  Salary Joining_Date Department\n",
      "0   1    Alice      25   50000   2020-01-15         HR\n",
      "1   2      Bob  thirty   60000   2019-06-23         IT\n",
      "2   3  Charlie      22    None   2018/07/01    Finance\n",
      "3   4     None      27   70000   2017-08-19         HR\n",
      "4   5      Eve           80000         None         IT\n",
      "5   6    Frank      29     N/A   2021-09-12    Finance\n",
      "6   7    Grace      31   90000   2022-11-25         HR\n",
      "7   7    Grace      31   90000   2022-11-25       None\n",
      "8   9      Ivy      40     NaN  InvalidDate         IT\n",
      "9  10     Jack    None  100000   2023-04-30    Finance\n"
     ]
    }
   ],
   "source": [
    "jsonData = pd.read_json(\"messy_data.json\")\n",
    "print(jsonData)"
   ]
  },
  {
   "cell_type": "code",
   "execution_count": 16,
   "id": "d33fab4a-e5ef-4cde-ab7d-2c1fd41a8ec1",
   "metadata": {},
   "outputs": [
    {
     "name": "stdout",
     "output_type": "stream",
     "text": [
      "CSV Data\n",
      "   ID     Name     Age   Salary Joining_Date Department\n",
      "0   1    Alice      25  50000.0   2020-01-15         HR\n",
      "1   2      Bob  thirty  60000.0   2019-06-23         IT\n",
      "2   3  Charlie      22      NaN   2018/07/01    Finance\n",
      "3   4      NaN      27  70000.0   2017-08-19         HR\n",
      "4   5      Eve     NaN  80000.0          NaN         IT\n",
      "5   6    Frank      29      NaN   2021-09-12    Finance\n",
      "6   7    Grace      31  90000.0   2022-11-25         HR\n",
      "Json Data\n",
      "   ID     Name     Age Salary Joining_Date Department\n",
      "0   1    Alice      25  50000   2020-01-15         HR\n",
      "1   2      Bob  thirty  60000   2019-06-23         IT\n",
      "2   3  Charlie      22   None   2018/07/01    Finance\n",
      "3   4     None      27  70000   2017-08-19         HR\n",
      "4   5      Eve          80000         None         IT\n",
      "5   6    Frank      29    N/A   2021-09-12    Finance\n"
     ]
    }
   ],
   "source": [
    "print(\"CSV Data\")\n",
    "print(data.head(7))\n",
    "print(\"Json Data\")\n",
    "print(jsonData.head(6))"
   ]
  },
  {
   "cell_type": "code",
   "execution_count": 17,
   "id": "1c762f83-48be-46bd-b385-b927c7a3e79f",
   "metadata": {},
   "outputs": [
    {
     "name": "stdout",
     "output_type": "stream",
     "text": [
      "<class 'pandas.core.frame.DataFrame'>\n",
      "RangeIndex: 10 entries, 0 to 9\n",
      "Data columns (total 6 columns):\n",
      " #   Column        Non-Null Count  Dtype  \n",
      "---  ------        --------------  -----  \n",
      " 0   ID            10 non-null     int64  \n",
      " 1   Name          9 non-null      object \n",
      " 2   Age           8 non-null      object \n",
      " 3   Salary        7 non-null      float64\n",
      " 4   Joining_Date  9 non-null      object \n",
      " 5   Department    9 non-null      object \n",
      "dtypes: float64(1), int64(1), object(4)\n",
      "memory usage: 612.0+ bytes\n",
      "None\n"
     ]
    }
   ],
   "source": [
    "print(data.info())"
   ]
  },
  {
   "cell_type": "markdown",
   "id": "56be7f33-5c53-4a7a-a43f-c77f91e99b1f",
   "metadata": {},
   "source": [
    "CLEANING DATA\n",
    "(I)   Empty cells\n",
    "(II)  Wrong Data\n",
    "(III) Duplicates\n",
    "(IV)  Wrong Format"
   ]
  },
  {
   "cell_type": "markdown",
   "id": "bf15363d-c44c-47dc-8c85-6614f9a72395",
   "metadata": {},
   "source": [
    "(I)  Empty Cells (Either Remove the rows or just fill in some data)"
   ]
  },
  {
   "cell_type": "code",
   "execution_count": 18,
   "id": "24e0309f-5feb-49a4-9744-92b1ee681d3e",
   "metadata": {},
   "outputs": [
    {
     "name": "stdout",
     "output_type": "stream",
     "text": [
      "   ID   Name     Age   Salary Joining_Date Department\n",
      "0   1  Alice      25  50000.0   2020-01-15         HR\n",
      "1   2    Bob  thirty  60000.0   2019-06-23         IT\n",
      "6   7  Grace      31  90000.0   2022-11-25         HR\n"
     ]
    }
   ],
   "source": [
    "df = data.dropna()\n",
    "print(df)"
   ]
  },
  {
   "cell_type": "code",
   "execution_count": 20,
   "id": "c3262df4-c9fa-4630-af36-2ca31bdbdba1",
   "metadata": {},
   "outputs": [
    {
     "name": "stdout",
     "output_type": "stream",
     "text": [
      "   ID          Name     Age    Salary Joining_Date Department\n",
      "0   1         Alice      25   50000.0   2020-01-15         HR\n",
      "1   2           Bob  thirty   60000.0   2019-06-23         IT\n",
      "2   3       Charlie      22       NaN   2018/07/01    Finance\n",
      "3   4  Unknown User      27   70000.0   2017-08-19         HR\n",
      "4   5           Eve     NaN   80000.0          NaN         IT\n",
      "5   6         Frank      29       NaN   2021-09-12    Finance\n",
      "6   7         Grace      31   90000.0   2022-11-25         HR\n",
      "7   7         Grace      31   90000.0   2022-11-25        NaN\n",
      "8   9           Ivy      40       NaN  InvalidDate         IT\n",
      "9  10          Jack     NaN  100000.0   2023-04-30    Finance\n"
     ]
    }
   ],
   "source": [
    "data.fillna({'Name':'Unknown User'},inplace = True)\n",
    "print(data)"
   ]
  },
  {
   "cell_type": "code",
   "execution_count": 26,
   "id": "e5a4d8c6-6f19-4b8a-b47c-64b0ef157fcf",
   "metadata": {},
   "outputs": [
    {
     "name": "stdout",
     "output_type": "stream",
     "text": [
      "   ID          Name     Age         Salary Joining_Date Department\n",
      "0   1         Alice      25   50000.000000   2020-01-15         HR\n",
      "1   2           Bob  thirty   60000.000000   2019-06-23         IT\n",
      "2   3       Charlie      22   77142.857143   2018/07/01    Finance\n",
      "3   4  Unknown User      27   70000.000000   2017-08-19         HR\n",
      "4   5           Eve     NaN   80000.000000          NaN         IT\n",
      "5   6         Frank      29   77142.857143   2021-09-12    Finance\n",
      "6   7         Grace      31   90000.000000   2022-11-25         HR\n",
      "7   7         Grace      31   90000.000000   2022-11-25        NaN\n",
      "8   9           Ivy      40   77142.857143  InvalidDate         IT\n",
      "9  10          Jack     NaN  100000.000000   2023-04-30    Finance\n"
     ]
    }
   ],
   "source": [
    "x = data['Salary'].mean()\n",
    "data.fillna({'Salary':x},inplace = True)\n",
    "print(data)"
   ]
  },
  {
   "cell_type": "code",
   "execution_count": 28,
   "id": "7bd61a28-bce7-471a-88a8-f277b524f058",
   "metadata": {},
   "outputs": [
    {
     "name": "stdout",
     "output_type": "stream",
     "text": [
      "   ID          Name     Age         Salary Joining_Date Department\n",
      "0   1         Alice      25   50000.000000   2020-01-15         HR\n",
      "1   2           Bob  thirty   60000.000000   2019-06-23         IT\n",
      "2   3       Charlie      22   77142.857143          NaT    Finance\n",
      "3   4  Unknown User      27   70000.000000   2017-08-19         HR\n",
      "4   5           Eve     NaN   80000.000000          NaT         IT\n",
      "5   6         Frank      29   77142.857143   2021-09-12    Finance\n",
      "6   7         Grace      31   90000.000000   2022-11-25         HR\n",
      "7   7         Grace      31   90000.000000   2022-11-25        NaN\n",
      "8   9           Ivy      40   77142.857143          NaT         IT\n",
      "9  10          Jack     NaN  100000.000000   2023-04-30    Finance\n"
     ]
    }
   ],
   "source": [
    "data['Joining_Date'] = pd.to_datetime(data['Joining_Date'], errors='coerce')\n",
    "print(data)"
   ]
  },
  {
   "cell_type": "code",
   "execution_count": 37,
   "id": "0d46343f-948b-425a-901d-489979433302",
   "metadata": {},
   "outputs": [
    {
     "name": "stdout",
     "output_type": "stream",
     "text": [
      "23.5\n",
      "   ID          Name  Age         Salary Joining_Date Department\n",
      "0   1         Alice   25   50000.000000   2020-01-15         HR\n",
      "1   2           Bob   30   60000.000000   2019-06-23         IT\n",
      "2   3       Charlie   22   77142.857143          NaT    Finance\n",
      "3   4  Unknown User   27   70000.000000   2017-08-19         HR\n",
      "4   5           Eve    0   80000.000000          NaT         IT\n",
      "5   6         Frank   29   77142.857143   2021-09-12    Finance\n",
      "6   7         Grace   31   90000.000000   2022-11-25         HR\n",
      "7   7         Grace   31   90000.000000   2022-11-25        NaN\n",
      "8   9           Ivy   40   77142.857143          NaT         IT\n",
      "9  10          Jack    0  100000.000000   2023-04-30    Finance\n"
     ]
    }
   ],
   "source": [
    "words = {'thirty': 30}\n",
    "data['Age'] = data['Age'].replace(words)\n",
    "\n",
    "data['Age'] = pd.to_numeric(data['Age'], errors='coerce')\n",
    "x = data['Age'].mean()\n",
    "print(x)\n",
    "data.fillna({'Age':int(x)}, inplace=True)\n",
    "print(data)"
   ]
  },
  {
   "cell_type": "code",
   "execution_count": 38,
   "id": "e23335b6-ce9f-4b64-9d61-8666253d5dd9",
   "metadata": {},
   "outputs": [
    {
     "name": "stdout",
     "output_type": "stream",
     "text": [
      "   ID          Name  Age         Salary Joining_Date Department\n",
      "0   1         Alice   25   50000.000000   2020-01-15         HR\n",
      "1   2           Bob   30   60000.000000   2019-06-23         IT\n",
      "2   3       Charlie   22   77142.857143          NaT    Finance\n",
      "3   4  Unknown User   27   70000.000000   2017-08-19         HR\n",
      "4   5           Eve    0   80000.000000          NaT         IT\n",
      "5   6         Frank   29   77142.857143   2021-09-12    Finance\n",
      "6   7         Grace   31   90000.000000   2022-11-25         HR\n",
      "7   7         Grace   31   90000.000000   2022-11-25        NaN\n",
      "8   9           Ivy   40   77142.857143          NaT         IT\n",
      "9  10          Jack    0  100000.000000   2023-04-30    Finance\n"
     ]
    }
   ],
   "source": [
    "data.drop_duplicates(inplace = True)\n",
    "print(data)"
   ]
  },
  {
   "cell_type": "code",
   "execution_count": 39,
   "id": "15bc0811-a6c0-4c8f-8b4e-df0f1f4dc50e",
   "metadata": {},
   "outputs": [
    {
     "ename": "ValueError",
     "evalue": "could not convert string to float: 'Alice'",
     "output_type": "error",
     "traceback": [
      "\u001b[1;31m---------------------------------------------------------------------------\u001b[0m",
      "\u001b[1;31mValueError\u001b[0m                                Traceback (most recent call last)",
      "Cell \u001b[1;32mIn[39], line 1\u001b[0m\n\u001b[1;32m----> 1\u001b[0m \u001b[43mdata\u001b[49m\u001b[38;5;241;43m.\u001b[39;49m\u001b[43mcorr\u001b[49m\u001b[43m(\u001b[49m\u001b[43m)\u001b[49m\n",
      "File \u001b[1;32m~\\AppData\\Local\\Programs\\Python\\Python311\\Lib\\site-packages\\pandas\\core\\frame.py:11049\u001b[0m, in \u001b[0;36mDataFrame.corr\u001b[1;34m(self, method, min_periods, numeric_only)\u001b[0m\n\u001b[0;32m  11047\u001b[0m cols \u001b[38;5;241m=\u001b[39m data\u001b[38;5;241m.\u001b[39mcolumns\n\u001b[0;32m  11048\u001b[0m idx \u001b[38;5;241m=\u001b[39m cols\u001b[38;5;241m.\u001b[39mcopy()\n\u001b[1;32m> 11049\u001b[0m mat \u001b[38;5;241m=\u001b[39m \u001b[43mdata\u001b[49m\u001b[38;5;241;43m.\u001b[39;49m\u001b[43mto_numpy\u001b[49m\u001b[43m(\u001b[49m\u001b[43mdtype\u001b[49m\u001b[38;5;241;43m=\u001b[39;49m\u001b[38;5;28;43mfloat\u001b[39;49m\u001b[43m,\u001b[49m\u001b[43m \u001b[49m\u001b[43mna_value\u001b[49m\u001b[38;5;241;43m=\u001b[39;49m\u001b[43mnp\u001b[49m\u001b[38;5;241;43m.\u001b[39;49m\u001b[43mnan\u001b[49m\u001b[43m,\u001b[49m\u001b[43m \u001b[49m\u001b[43mcopy\u001b[49m\u001b[38;5;241;43m=\u001b[39;49m\u001b[38;5;28;43;01mFalse\u001b[39;49;00m\u001b[43m)\u001b[49m\n\u001b[0;32m  11051\u001b[0m \u001b[38;5;28;01mif\u001b[39;00m method \u001b[38;5;241m==\u001b[39m \u001b[38;5;124m\"\u001b[39m\u001b[38;5;124mpearson\u001b[39m\u001b[38;5;124m\"\u001b[39m:\n\u001b[0;32m  11052\u001b[0m     correl \u001b[38;5;241m=\u001b[39m libalgos\u001b[38;5;241m.\u001b[39mnancorr(mat, minp\u001b[38;5;241m=\u001b[39mmin_periods)\n",
      "File \u001b[1;32m~\\AppData\\Local\\Programs\\Python\\Python311\\Lib\\site-packages\\pandas\\core\\frame.py:1993\u001b[0m, in \u001b[0;36mDataFrame.to_numpy\u001b[1;34m(self, dtype, copy, na_value)\u001b[0m\n\u001b[0;32m   1991\u001b[0m \u001b[38;5;28;01mif\u001b[39;00m dtype \u001b[38;5;129;01mis\u001b[39;00m \u001b[38;5;129;01mnot\u001b[39;00m \u001b[38;5;28;01mNone\u001b[39;00m:\n\u001b[0;32m   1992\u001b[0m     dtype \u001b[38;5;241m=\u001b[39m np\u001b[38;5;241m.\u001b[39mdtype(dtype)\n\u001b[1;32m-> 1993\u001b[0m result \u001b[38;5;241m=\u001b[39m \u001b[38;5;28;43mself\u001b[39;49m\u001b[38;5;241;43m.\u001b[39;49m\u001b[43m_mgr\u001b[49m\u001b[38;5;241;43m.\u001b[39;49m\u001b[43mas_array\u001b[49m\u001b[43m(\u001b[49m\u001b[43mdtype\u001b[49m\u001b[38;5;241;43m=\u001b[39;49m\u001b[43mdtype\u001b[49m\u001b[43m,\u001b[49m\u001b[43m \u001b[49m\u001b[43mcopy\u001b[49m\u001b[38;5;241;43m=\u001b[39;49m\u001b[43mcopy\u001b[49m\u001b[43m,\u001b[49m\u001b[43m \u001b[49m\u001b[43mna_value\u001b[49m\u001b[38;5;241;43m=\u001b[39;49m\u001b[43mna_value\u001b[49m\u001b[43m)\u001b[49m\n\u001b[0;32m   1994\u001b[0m \u001b[38;5;28;01mif\u001b[39;00m result\u001b[38;5;241m.\u001b[39mdtype \u001b[38;5;129;01mis\u001b[39;00m \u001b[38;5;129;01mnot\u001b[39;00m dtype:\n\u001b[0;32m   1995\u001b[0m     result \u001b[38;5;241m=\u001b[39m np\u001b[38;5;241m.\u001b[39masarray(result, dtype\u001b[38;5;241m=\u001b[39mdtype)\n",
      "File \u001b[1;32m~\\AppData\\Local\\Programs\\Python\\Python311\\Lib\\site-packages\\pandas\\core\\internals\\managers.py:1694\u001b[0m, in \u001b[0;36mBlockManager.as_array\u001b[1;34m(self, dtype, copy, na_value)\u001b[0m\n\u001b[0;32m   1692\u001b[0m         arr\u001b[38;5;241m.\u001b[39mflags\u001b[38;5;241m.\u001b[39mwriteable \u001b[38;5;241m=\u001b[39m \u001b[38;5;28;01mFalse\u001b[39;00m\n\u001b[0;32m   1693\u001b[0m \u001b[38;5;28;01melse\u001b[39;00m:\n\u001b[1;32m-> 1694\u001b[0m     arr \u001b[38;5;241m=\u001b[39m \u001b[38;5;28;43mself\u001b[39;49m\u001b[38;5;241;43m.\u001b[39;49m\u001b[43m_interleave\u001b[49m\u001b[43m(\u001b[49m\u001b[43mdtype\u001b[49m\u001b[38;5;241;43m=\u001b[39;49m\u001b[43mdtype\u001b[49m\u001b[43m,\u001b[49m\u001b[43m \u001b[49m\u001b[43mna_value\u001b[49m\u001b[38;5;241;43m=\u001b[39;49m\u001b[43mna_value\u001b[49m\u001b[43m)\u001b[49m\n\u001b[0;32m   1695\u001b[0m     \u001b[38;5;66;03m# The underlying data was copied within _interleave, so no need\u001b[39;00m\n\u001b[0;32m   1696\u001b[0m     \u001b[38;5;66;03m# to further copy if copy=True or setting na_value\u001b[39;00m\n\u001b[0;32m   1698\u001b[0m \u001b[38;5;28;01mif\u001b[39;00m na_value \u001b[38;5;129;01mis\u001b[39;00m lib\u001b[38;5;241m.\u001b[39mno_default:\n",
      "File \u001b[1;32m~\\AppData\\Local\\Programs\\Python\\Python311\\Lib\\site-packages\\pandas\\core\\internals\\managers.py:1753\u001b[0m, in \u001b[0;36mBlockManager._interleave\u001b[1;34m(self, dtype, na_value)\u001b[0m\n\u001b[0;32m   1751\u001b[0m     \u001b[38;5;28;01melse\u001b[39;00m:\n\u001b[0;32m   1752\u001b[0m         arr \u001b[38;5;241m=\u001b[39m blk\u001b[38;5;241m.\u001b[39mget_values(dtype)\n\u001b[1;32m-> 1753\u001b[0m     \u001b[43mresult\u001b[49m\u001b[43m[\u001b[49m\u001b[43mrl\u001b[49m\u001b[38;5;241;43m.\u001b[39;49m\u001b[43mindexer\u001b[49m\u001b[43m]\u001b[49m \u001b[38;5;241m=\u001b[39m arr\n\u001b[0;32m   1754\u001b[0m     itemmask[rl\u001b[38;5;241m.\u001b[39mindexer] \u001b[38;5;241m=\u001b[39m \u001b[38;5;241m1\u001b[39m\n\u001b[0;32m   1756\u001b[0m \u001b[38;5;28;01mif\u001b[39;00m \u001b[38;5;129;01mnot\u001b[39;00m itemmask\u001b[38;5;241m.\u001b[39mall():\n",
      "\u001b[1;31mValueError\u001b[0m: could not convert string to float: 'Alice'"
     ]
    }
   ],
   "source": [
    "data.corr()"
   ]
  },
  {
   "cell_type": "code",
   "execution_count": null,
   "id": "012890ec-f812-4d51-a8f5-bf8c9748723c",
   "metadata": {},
   "outputs": [],
   "source": []
  }
 ],
 "metadata": {
  "kernelspec": {
   "display_name": "Python 3 (ipykernel)",
   "language": "python",
   "name": "python3"
  },
  "language_info": {
   "codemirror_mode": {
    "name": "ipython",
    "version": 3
   },
   "file_extension": ".py",
   "mimetype": "text/x-python",
   "name": "python",
   "nbconvert_exporter": "python",
   "pygments_lexer": "ipython3",
   "version": "3.11.9"
  }
 },
 "nbformat": 4,
 "nbformat_minor": 5
}
